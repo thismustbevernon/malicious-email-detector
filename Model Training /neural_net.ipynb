{
 "cells": [
  {
   "cell_type": "code",
   "execution_count": 1,
   "metadata": {},
   "outputs": [],
   "source": [
    "import tensorflow as tf\n",
    "import logging\n",
    "# disable tf warnings\n",
    "tf.get_logger().setLevel(logging.ERROR)\n",
    "from tensorflow.python.keras import Sequential\n",
    "# For layers\n",
    "from tensorflow.python.keras.layers import Dense\n",
    "from tensorflow.python.keras.layers import InputLayer\n",
    "import numpy as np\n",
    "import matplotlib.pyplot as plt\n",
    "import pandas as pd"
   ]
  },
  {
   "cell_type": "code",
   "execution_count": 2,
   "metadata": {},
   "outputs": [],
   "source": [
    "class Phishing_Detection_Model:\n",
    "    def __init__(self,num_features,load_weights=False,weights_path=\"phishing-detection-model.hf\",train=True):\n",
    "        self.load_weights = load_weights\n",
    "        self.weights_path = weights_path\n",
    "        self.learning_rate = 2e-4\n",
    "        self.train_ = train\n",
    "        self.num_features = num_features\n",
    "        self.model = self.build_model()\n",
    "    def build_model(self):\n",
    "        model=Sequential(name=\"Phishing_Detection_Model\")\n",
    "        model.add(InputLayer(input_shape=(self.num_features), name='Input_Layer')) \n",
    "        model.add(Dense(100,activation='relu', name='Hidden_Layer1'))\n",
    "        model.add(Dense(200,activation='relu', name='Hidden_Layer2'))\n",
    "        model.add(Dense(100,activation='relu', name='Hidden_Layer3'))\n",
    "        model.add(Dense(50, activation='relu', name='Hidden_Layer4')) \n",
    "        model.add(Dense(1, activation='sigmoid', name='Output_Layer')) \n",
    "        model.compile(optimizer='adam', loss='binary_crossentropy', metrics=['accuracy'])\n",
    "        if self.load_weights:\n",
    "           model.load_weights(self.weights_path)\n",
    "        return model\n",
    "\n",
    "    def train(self, train_feature_vecs, train_answers_vec):\n",
    "        if self.train_:\n",
    "            history = self.model.fit(\n",
    "                x=train_feature_vecs,\n",
    "                y=train_answers_vec,\n",
    "                validation_split=0.25,\n",
    "                shuffle=True,\n",
    "                epochs=50\n",
    "            )\n",
    "        self.model.save(\"phishing-detection-model\")\n",
    "        self.plot_stats(history)\n",
    "    def predict(self, test_feature_vecs):\n",
    "        return self.model.predict(test_feature_vecs)\n",
    "    \n",
    "    def plot_stats(self, history):\n",
    "        accuracy = history.history[\"accuracy\"]\n",
    "        loss = history.history[\"loss\"]\n",
    "        epochs = range(1, len(accuracy) + 1)\n",
    "\n",
    "        plt.title('Training accuracy and loss')\n",
    "        plt.plot(epochs, accuracy, 'b*', label='Training accuracy')\n",
    "        plt.plot(epochs, loss, 'b-', label='Training loss')\n",
    "        plt.legend()\n",
    "        plt.xlabel(\"Epochs\")\n",
    "        plt.savefig('Training accuracy and loss')"
   ]
  },
  {
   "cell_type": "code",
   "execution_count": 3,
   "metadata": {},
   "outputs": [],
   "source": [
    "def calculate_accuracy(predictions, targets):\n",
    "    correct = 0\n",
    "    total = 0\n",
    "    for i in range(len(predictions)):\n",
    "        act_label = targets[i]\n",
    "        pred_label = 0 if predictions[i] < 0.5 else 1\n",
    "        if(act_label == pred_label):\n",
    "            correct += 1\n",
    "        total += 1\n",
    "    accuracy = (correct/total)\n",
    "    return accuracy"
   ]
  },
  {
   "cell_type": "code",
   "execution_count": 4,
   "metadata": {},
   "outputs": [],
   "source": [
    "def get_features_targets(df, column):\n",
    "    targets = df[column]\n",
    "    targets = tf.convert_to_tensor(targets)\n",
    "    features = df.drop(columns=column)\n",
    "    features = tf.convert_to_tensor(features)\n",
    "    return features, targets\n"
   ]
  },
  {
   "cell_type": "code",
   "execution_count": 5,
   "metadata": {},
   "outputs": [],
   "source": [
    "def train_val_test_split(df, column):\n",
    "    # train - 60%\n",
    "    train = df.sample(frac = 0.8)\n",
    "    # validation - 20% , test - 20%\n",
    "    test = df.drop(train.index)\n",
    "    train_features, train_targets = get_features_targets(train, column)\n",
    "    test_features, test_targets = get_features_targets(test, column)\n",
    "    return train_features, train_targets, test_features, test_targets "
   ]
  },
  {
   "cell_type": "code",
   "execution_count": 7,
   "metadata": {},
   "outputs": [],
   "source": [
    "data = pd.read_csv('cleaned_phishing_dataset.csv')\n",
    "df = pd.DataFrame(data)\n",
    "train_features, train_targets, test_features, test_targets = train_val_test_split(df, 'CLASS_LABEL')\n",
    "assert train_features.shape[1] == test_features.shape[1] == len(df.columns) - 1"
   ]
  },
  {
   "cell_type": "code",
   "execution_count": 8,
   "metadata": {},
   "outputs": [],
   "source": [
    "model = Phishing_Detection_Model(num_features=train_features.shape[1])"
   ]
  },
  {
   "cell_type": "code",
   "execution_count": 9,
   "metadata": {},
   "outputs": [
    {
     "name": "stderr",
     "output_type": "stream",
     "text": [
      "2023-02-26 20:12:29.580863: W tensorflow/core/platform/profile_utils/cpu_utils.cc:128] Failed to get CPU frequency: 0 Hz\n"
     ]
    },
    {
     "name": "stdout",
     "output_type": "stream",
     "text": [
      "Epoch 1/50\n",
      "188/188 [==============================] - 1s 2ms/step - loss: 0.4427 - accuracy: 0.7955 - val_loss: 0.2476 - val_accuracy: 0.9105\n",
      "Epoch 2/50\n",
      "188/188 [==============================] - 0s 1ms/step - loss: 0.2173 - accuracy: 0.9185 - val_loss: 0.1846 - val_accuracy: 0.9290\n",
      "Epoch 3/50\n",
      "188/188 [==============================] - 0s 1ms/step - loss: 0.1992 - accuracy: 0.9213 - val_loss: 0.1946 - val_accuracy: 0.9275\n",
      "Epoch 4/50\n",
      "188/188 [==============================] - 0s 1ms/step - loss: 0.1521 - accuracy: 0.9447 - val_loss: 0.2647 - val_accuracy: 0.9025\n",
      "Epoch 5/50\n",
      "188/188 [==============================] - 0s 1ms/step - loss: 0.1790 - accuracy: 0.9357 - val_loss: 0.1694 - val_accuracy: 0.9340\n",
      "Epoch 6/50\n",
      "188/188 [==============================] - 0s 1ms/step - loss: 0.1431 - accuracy: 0.9468 - val_loss: 0.1604 - val_accuracy: 0.9430\n",
      "Epoch 7/50\n",
      "188/188 [==============================] - 0s 1ms/step - loss: 0.1434 - accuracy: 0.9465 - val_loss: 0.1636 - val_accuracy: 0.9385\n",
      "Epoch 8/50\n",
      "188/188 [==============================] - 0s 1ms/step - loss: 0.1422 - accuracy: 0.9465 - val_loss: 0.1570 - val_accuracy: 0.9430\n",
      "Epoch 9/50\n",
      "188/188 [==============================] - 0s 1ms/step - loss: 0.1356 - accuracy: 0.9512 - val_loss: 0.1599 - val_accuracy: 0.9460\n",
      "Epoch 10/50\n",
      "188/188 [==============================] - 0s 1ms/step - loss: 0.1399 - accuracy: 0.9473 - val_loss: 0.1713 - val_accuracy: 0.9415\n",
      "Epoch 11/50\n",
      "188/188 [==============================] - 0s 1ms/step - loss: 0.1291 - accuracy: 0.9520 - val_loss: 0.1515 - val_accuracy: 0.9500\n",
      "Epoch 12/50\n",
      "188/188 [==============================] - 0s 1ms/step - loss: 0.1213 - accuracy: 0.9570 - val_loss: 0.1644 - val_accuracy: 0.9425\n",
      "Epoch 13/50\n",
      "188/188 [==============================] - 0s 1ms/step - loss: 0.1221 - accuracy: 0.9547 - val_loss: 0.1585 - val_accuracy: 0.9520\n",
      "Epoch 14/50\n",
      "188/188 [==============================] - 0s 1ms/step - loss: 0.1257 - accuracy: 0.9528 - val_loss: 0.1409 - val_accuracy: 0.9530\n",
      "Epoch 15/50\n",
      "188/188 [==============================] - 0s 1ms/step - loss: 0.1146 - accuracy: 0.9588 - val_loss: 0.1731 - val_accuracy: 0.9415\n",
      "Epoch 16/50\n",
      "188/188 [==============================] - 0s 1ms/step - loss: 0.1153 - accuracy: 0.9587 - val_loss: 0.1391 - val_accuracy: 0.9565\n",
      "Epoch 17/50\n",
      "188/188 [==============================] - 0s 1ms/step - loss: 0.1094 - accuracy: 0.9583 - val_loss: 0.1607 - val_accuracy: 0.9495\n",
      "Epoch 18/50\n",
      "188/188 [==============================] - 0s 1ms/step - loss: 0.1190 - accuracy: 0.9577 - val_loss: 0.1584 - val_accuracy: 0.9490\n",
      "Epoch 19/50\n",
      "188/188 [==============================] - 0s 1ms/step - loss: 0.1135 - accuracy: 0.9598 - val_loss: 0.1520 - val_accuracy: 0.9520\n",
      "Epoch 20/50\n",
      "188/188 [==============================] - 0s 1ms/step - loss: 0.1129 - accuracy: 0.9605 - val_loss: 0.1619 - val_accuracy: 0.9500\n",
      "Epoch 21/50\n",
      "188/188 [==============================] - 0s 1ms/step - loss: 0.1139 - accuracy: 0.9568 - val_loss: 0.1494 - val_accuracy: 0.9505\n",
      "Epoch 22/50\n",
      "188/188 [==============================] - 0s 1ms/step - loss: 0.1038 - accuracy: 0.9605 - val_loss: 0.1504 - val_accuracy: 0.9535\n",
      "Epoch 23/50\n",
      "188/188 [==============================] - 0s 1ms/step - loss: 0.1010 - accuracy: 0.9632 - val_loss: 0.1437 - val_accuracy: 0.9565\n",
      "Epoch 24/50\n",
      "188/188 [==============================] - 0s 1ms/step - loss: 0.1088 - accuracy: 0.9597 - val_loss: 0.1343 - val_accuracy: 0.9560\n",
      "Epoch 25/50\n",
      "188/188 [==============================] - 0s 1ms/step - loss: 0.1034 - accuracy: 0.9617 - val_loss: 0.2213 - val_accuracy: 0.9205\n",
      "Epoch 26/50\n",
      "188/188 [==============================] - 0s 1ms/step - loss: 0.1155 - accuracy: 0.9573 - val_loss: 0.2364 - val_accuracy: 0.9025\n",
      "Epoch 27/50\n",
      "188/188 [==============================] - 0s 1ms/step - loss: 0.1039 - accuracy: 0.9627 - val_loss: 0.1367 - val_accuracy: 0.9570\n",
      "Epoch 28/50\n",
      "188/188 [==============================] - 0s 1ms/step - loss: 0.1018 - accuracy: 0.9617 - val_loss: 0.1408 - val_accuracy: 0.9495\n",
      "Epoch 29/50\n",
      "188/188 [==============================] - 0s 1ms/step - loss: 0.0999 - accuracy: 0.9638 - val_loss: 0.1494 - val_accuracy: 0.9515\n",
      "Epoch 30/50\n",
      "188/188 [==============================] - 0s 1ms/step - loss: 0.0965 - accuracy: 0.9635 - val_loss: 0.1565 - val_accuracy: 0.9505\n",
      "Epoch 31/50\n",
      "188/188 [==============================] - 0s 1ms/step - loss: 0.0951 - accuracy: 0.9637 - val_loss: 0.1499 - val_accuracy: 0.9495\n",
      "Epoch 32/50\n",
      "188/188 [==============================] - 0s 1ms/step - loss: 0.0927 - accuracy: 0.9633 - val_loss: 0.1398 - val_accuracy: 0.9540\n",
      "Epoch 33/50\n",
      "188/188 [==============================] - 0s 1ms/step - loss: 0.1033 - accuracy: 0.9620 - val_loss: 0.1350 - val_accuracy: 0.9520\n",
      "Epoch 34/50\n",
      "188/188 [==============================] - 0s 1ms/step - loss: 0.0997 - accuracy: 0.9630 - val_loss: 0.1393 - val_accuracy: 0.9560\n",
      "Epoch 35/50\n",
      "188/188 [==============================] - 0s 1ms/step - loss: 0.0947 - accuracy: 0.9662 - val_loss: 0.1393 - val_accuracy: 0.9485\n",
      "Epoch 36/50\n",
      "188/188 [==============================] - 0s 1ms/step - loss: 0.0928 - accuracy: 0.9643 - val_loss: 0.1673 - val_accuracy: 0.9470\n",
      "Epoch 37/50\n",
      "188/188 [==============================] - 0s 1ms/step - loss: 0.0865 - accuracy: 0.9682 - val_loss: 0.1382 - val_accuracy: 0.9560\n",
      "Epoch 38/50\n",
      "188/188 [==============================] - 0s 1ms/step - loss: 0.0886 - accuracy: 0.9687 - val_loss: 0.1504 - val_accuracy: 0.9565\n",
      "Epoch 39/50\n",
      "188/188 [==============================] - 0s 1ms/step - loss: 0.0867 - accuracy: 0.9692 - val_loss: 0.1465 - val_accuracy: 0.9575\n",
      "Epoch 40/50\n",
      "188/188 [==============================] - 0s 1ms/step - loss: 0.0857 - accuracy: 0.9667 - val_loss: 0.1313 - val_accuracy: 0.9605\n",
      "Epoch 41/50\n",
      "188/188 [==============================] - 0s 1ms/step - loss: 0.0889 - accuracy: 0.9667 - val_loss: 0.1416 - val_accuracy: 0.9565\n",
      "Epoch 42/50\n",
      "188/188 [==============================] - 0s 1ms/step - loss: 0.0753 - accuracy: 0.9727 - val_loss: 0.1541 - val_accuracy: 0.9565\n",
      "Epoch 43/50\n",
      "188/188 [==============================] - 0s 1ms/step - loss: 0.0743 - accuracy: 0.9733 - val_loss: 0.1412 - val_accuracy: 0.9545\n",
      "Epoch 44/50\n",
      "188/188 [==============================] - 0s 1ms/step - loss: 0.0815 - accuracy: 0.9693 - val_loss: 0.1410 - val_accuracy: 0.9470\n",
      "Epoch 45/50\n",
      "188/188 [==============================] - 0s 1ms/step - loss: 0.0733 - accuracy: 0.9738 - val_loss: 0.1452 - val_accuracy: 0.9535\n",
      "Epoch 46/50\n",
      "188/188 [==============================] - 0s 1ms/step - loss: 0.0732 - accuracy: 0.9727 - val_loss: 0.1473 - val_accuracy: 0.9520\n",
      "Epoch 47/50\n",
      "188/188 [==============================] - 0s 1ms/step - loss: 0.0672 - accuracy: 0.9758 - val_loss: 0.1531 - val_accuracy: 0.9600\n",
      "Epoch 48/50\n",
      "188/188 [==============================] - 0s 1ms/step - loss: 0.0688 - accuracy: 0.9738 - val_loss: 0.1766 - val_accuracy: 0.9495\n",
      "Epoch 49/50\n",
      "188/188 [==============================] - 0s 1ms/step - loss: 0.0758 - accuracy: 0.9732 - val_loss: 0.1335 - val_accuracy: 0.9575\n",
      "Epoch 50/50\n",
      "188/188 [==============================] - 0s 1ms/step - loss: 0.0774 - accuracy: 0.9718 - val_loss: 0.1356 - val_accuracy: 0.9605\n"
     ]
    },
    {
     "name": "stderr",
     "output_type": "stream",
     "text": [
      "2023-02-26 20:12:40.786986: W tensorflow/python/util/util.cc:368] Sets are not currently considered sequences, but this may change in the future, so consider avoiding using them.\n",
      "WARNING:absl:Function `_wrapped_model` contains input name(s) Input_Layer with unsupported characters which will be renamed to input_layer in the SavedModel.\n"
     ]
    },
    {
     "data": {
      "image/png": "[encoded data removed]",
      "text/plain": [
       "<Figure size 432x288 with 1 Axes>"
      ]
     },
     "metadata": {
      "needs_background": "light"
     },
     "output_type": "display_data"
    }
   ],
   "source": [
    "model.train(train_features,train_targets)"
   ]
  },
  {
   "cell_type": "code",
   "execution_count": 10,
   "metadata": {},
   "outputs": [
    {
     "data": {
      "text/plain": [
       "0.9635"
      ]
     },
     "execution_count": 10,
     "metadata": {},
     "output_type": "execute_result"
    }
   ],
   "source": [
    "predicted_labels = model.predict(test_features)\n",
    "calculate_accuracy(predictions=predicted_labels, targets=test_targets)"
   ]
  },
  {
   "cell_type": "code",
   "execution_count": 11,
   "metadata": {},
   "outputs": [],
   "source": [
    "data2 = pd.read_csv('phishing_dataset_full.csv')\n",
    "df2 = pd.DataFrame(data2)\n",
    "train_features2, train_targets2, test_features2, test_targets2 = train_val_test_split(df2,'phishing')"
   ]
  },
  {
   "cell_type": "code",
   "execution_count": 12,
   "metadata": {},
   "outputs": [],
   "source": [
    "model2 = Phishing_Detection_Model(num_features=train_features2.shape[1])"
   ]
  },
  {
   "cell_type": "code",
   "execution_count": 13,
   "metadata": {},
   "outputs": [
    {
     "name": "stdout",
     "output_type": "stream",
     "text": [
      "Epoch 1/50\n",
      "1663/1663 [==============================] - 2s 1ms/step - loss: 14.7804 - accuracy: 0.7075 - val_loss: 1.1521 - val_accuracy: 0.7918\n",
      "Epoch 2/50\n",
      "1663/1663 [==============================] - 2s 1ms/step - loss: 0.8514 - accuracy: 0.8018 - val_loss: 0.6051 - val_accuracy: 0.7767\n",
      "Epoch 3/50\n",
      "1663/1663 [==============================] - 2s 1ms/step - loss: 0.5035 - accuracy: 0.8281 - val_loss: 0.2910 - val_accuracy: 0.8898\n",
      "Epoch 4/50\n",
      "1663/1663 [==============================] - 2s 1ms/step - loss: 0.4273 - accuracy: 0.8505 - val_loss: 0.3230 - val_accuracy: 0.8790\n",
      "Epoch 5/50\n",
      "1663/1663 [==============================] - 2s 1ms/step - loss: 0.3448 - accuracy: 0.8708 - val_loss: 0.3066 - val_accuracy: 0.8781\n",
      "Epoch 6/50\n",
      "1663/1663 [==============================] - 2s 1ms/step - loss: 0.2843 - accuracy: 0.8827 - val_loss: 0.2670 - val_accuracy: 0.8788\n",
      "Epoch 7/50\n",
      "1663/1663 [==============================] - 2s 1ms/step - loss: 0.3643 - accuracy: 0.8444 - val_loss: 0.2654 - val_accuracy: 0.9024\n",
      "Epoch 8/50\n",
      "1663/1663 [==============================] - 2s 1ms/step - loss: 0.2809 - accuracy: 0.8725 - val_loss: 0.2404 - val_accuracy: 0.9109\n",
      "Epoch 9/50\n",
      "1663/1663 [==============================] - 2s 1ms/step - loss: 0.2535 - accuracy: 0.8951 - val_loss: 0.2282 - val_accuracy: 0.9042\n",
      "Epoch 10/50\n",
      "1663/1663 [==============================] - 2s 1ms/step - loss: 0.2442 - accuracy: 0.8977 - val_loss: 0.2255 - val_accuracy: 0.9093\n",
      "Epoch 11/50\n",
      "1663/1663 [==============================] - 2s 1ms/step - loss: 0.2360 - accuracy: 0.9014 - val_loss: 0.2210 - val_accuracy: 0.9107\n",
      "Epoch 12/50\n",
      "1663/1663 [==============================] - 2s 1ms/step - loss: 0.2357 - accuracy: 0.9008 - val_loss: 0.2213 - val_accuracy: 0.9111\n",
      "Epoch 13/50\n",
      "1663/1663 [==============================] - 2s 1ms/step - loss: 0.2232 - accuracy: 0.9081 - val_loss: 0.2443 - val_accuracy: 0.8998\n",
      "Epoch 14/50\n",
      "1663/1663 [==============================] - 2s 1ms/step - loss: 0.2193 - accuracy: 0.9095 - val_loss: 0.2023 - val_accuracy: 0.9155\n",
      "Epoch 15/50\n",
      "1663/1663 [==============================] - 2s 1ms/step - loss: 0.2113 - accuracy: 0.9121 - val_loss: 0.1970 - val_accuracy: 0.9189\n",
      "Epoch 16/50\n",
      "1663/1663 [==============================] - 2s 1ms/step - loss: 0.2232 - accuracy: 0.9097 - val_loss: 0.2227 - val_accuracy: 0.9085\n",
      "Epoch 17/50\n",
      "1663/1663 [==============================] - 2s 1ms/step - loss: 0.2248 - accuracy: 0.9085 - val_loss: 0.2123 - val_accuracy: 0.9123\n",
      "Epoch 18/50\n",
      "1663/1663 [==============================] - 2s 1ms/step - loss: 0.2129 - accuracy: 0.9136 - val_loss: 0.1941 - val_accuracy: 0.9218\n",
      "Epoch 19/50\n",
      "1663/1663 [==============================] - 2s 1ms/step - loss: 0.2077 - accuracy: 0.9152 - val_loss: 0.1989 - val_accuracy: 0.9219\n",
      "Epoch 20/50\n",
      "1663/1663 [==============================] - 2s 1ms/step - loss: 0.2115 - accuracy: 0.9133 - val_loss: 0.2011 - val_accuracy: 0.9215\n",
      "Epoch 21/50\n",
      "1663/1663 [==============================] - 2s 1ms/step - loss: 0.2017 - accuracy: 0.9166 - val_loss: 0.2373 - val_accuracy: 0.9045\n",
      "Epoch 22/50\n",
      "1663/1663 [==============================] - 2s 1ms/step - loss: 0.2054 - accuracy: 0.9155 - val_loss: 0.2113 - val_accuracy: 0.9085\n",
      "Epoch 23/50\n",
      "1663/1663 [==============================] - 2s 1ms/step - loss: 0.2193 - accuracy: 0.9100 - val_loss: 0.2742 - val_accuracy: 0.8997\n",
      "Epoch 24/50\n",
      "1663/1663 [==============================] - 2s 1ms/step - loss: 0.2138 - accuracy: 0.9142 - val_loss: 0.2177 - val_accuracy: 0.9206\n",
      "Epoch 25/50\n",
      "1663/1663 [==============================] - 2s 1ms/step - loss: 0.2079 - accuracy: 0.9136 - val_loss: 0.1921 - val_accuracy: 0.9201\n",
      "Epoch 26/50\n",
      "1663/1663 [==============================] - 2s 1ms/step - loss: 0.1994 - accuracy: 0.9173 - val_loss: 0.1888 - val_accuracy: 0.9244\n",
      "Epoch 27/50\n",
      "1663/1663 [==============================] - 2s 1ms/step - loss: 0.1990 - accuracy: 0.9177 - val_loss: 0.2074 - val_accuracy: 0.9058\n",
      "Epoch 28/50\n",
      "1663/1663 [==============================] - 2s 1ms/step - loss: 0.1993 - accuracy: 0.9176 - val_loss: 0.1823 - val_accuracy: 0.9250\n",
      "Epoch 29/50\n",
      "1663/1663 [==============================] - 2s 1ms/step - loss: 0.1973 - accuracy: 0.9179 - val_loss: 0.2099 - val_accuracy: 0.9046\n",
      "Epoch 30/50\n",
      "1663/1663 [==============================] - 2s 1ms/step - loss: 0.1960 - accuracy: 0.9180 - val_loss: 0.2145 - val_accuracy: 0.9120\n",
      "Epoch 31/50\n",
      "1663/1663 [==============================] - 2s 1ms/step - loss: 0.1991 - accuracy: 0.9182 - val_loss: 0.1891 - val_accuracy: 0.9232\n",
      "Epoch 32/50\n",
      "1663/1663 [==============================] - 2s 1ms/step - loss: 0.2021 - accuracy: 0.9160 - val_loss: 0.2003 - val_accuracy: 0.9176\n",
      "Epoch 33/50\n",
      "1663/1663 [==============================] - 2s 1ms/step - loss: 0.1947 - accuracy: 0.9205 - val_loss: 0.1836 - val_accuracy: 0.9277\n",
      "Epoch 34/50\n",
      "1663/1663 [==============================] - 2s 1ms/step - loss: 0.1966 - accuracy: 0.9194 - val_loss: 0.1967 - val_accuracy: 0.9156\n",
      "Epoch 35/50\n",
      "1663/1663 [==============================] - 2s 1ms/step - loss: 0.1913 - accuracy: 0.9218 - val_loss: 0.1818 - val_accuracy: 0.9236\n",
      "Epoch 36/50\n",
      "1663/1663 [==============================] - 2s 1ms/step - loss: 0.1938 - accuracy: 0.9203 - val_loss: 0.1846 - val_accuracy: 0.9256\n",
      "Epoch 37/50\n",
      "1663/1663 [==============================] - 2s 1ms/step - loss: 0.1946 - accuracy: 0.9210 - val_loss: 0.1926 - val_accuracy: 0.9228\n",
      "Epoch 38/50\n",
      "1663/1663 [==============================] - 2s 1ms/step - loss: 0.1890 - accuracy: 0.9206 - val_loss: 0.1773 - val_accuracy: 0.9302\n",
      "Epoch 39/50\n",
      "1663/1663 [==============================] - 2s 1ms/step - loss: 0.1912 - accuracy: 0.9211 - val_loss: 0.2104 - val_accuracy: 0.9162\n",
      "Epoch 40/50\n",
      "1663/1663 [==============================] - 2s 1ms/step - loss: 0.1977 - accuracy: 0.9170 - val_loss: 0.1840 - val_accuracy: 0.9270\n",
      "Epoch 41/50\n",
      "1663/1663 [==============================] - 2s 1ms/step - loss: 0.2159 - accuracy: 0.9113 - val_loss: 0.2346 - val_accuracy: 0.8931\n",
      "Epoch 42/50\n",
      "1663/1663 [==============================] - 2s 1ms/step - loss: 0.2047 - accuracy: 0.9146 - val_loss: 0.1928 - val_accuracy: 0.9218\n",
      "Epoch 43/50\n",
      "1663/1663 [==============================] - 2s 1ms/step - loss: 0.1995 - accuracy: 0.9175 - val_loss: 0.1968 - val_accuracy: 0.9196\n",
      "Epoch 44/50\n",
      "1663/1663 [==============================] - 2s 1ms/step - loss: 0.1873 - accuracy: 0.9224 - val_loss: 0.1998 - val_accuracy: 0.9161\n",
      "Epoch 45/50\n",
      "1663/1663 [==============================] - 2s 1ms/step - loss: 0.1957 - accuracy: 0.9201 - val_loss: 0.2155 - val_accuracy: 0.9121\n",
      "Epoch 46/50\n",
      "1663/1663 [==============================] - 2s 1ms/step - loss: 0.1916 - accuracy: 0.9209 - val_loss: 0.2008 - val_accuracy: 0.9195\n",
      "Epoch 47/50\n",
      "1663/1663 [==============================] - 2s 1ms/step - loss: 0.1867 - accuracy: 0.9219 - val_loss: 0.2007 - val_accuracy: 0.9146\n",
      "Epoch 48/50\n",
      "1663/1663 [==============================] - 2s 1ms/step - loss: 0.1871 - accuracy: 0.9226 - val_loss: 0.1776 - val_accuracy: 0.9308\n",
      "Epoch 49/50\n",
      "1663/1663 [==============================] - 2s 1ms/step - loss: 0.1830 - accuracy: 0.9237 - val_loss: 0.1902 - val_accuracy: 0.9202\n",
      "Epoch 50/50\n",
      "1663/1663 [==============================] - 2s 1ms/step - loss: 0.1855 - accuracy: 0.9234 - val_loss: 0.1784 - val_accuracy: 0.9295\n"
     ]
    },
    {
     "name": "stderr",
     "output_type": "stream",
     "text": [
      "WARNING:absl:Function `_wrapped_model` contains input name(s) Input_Layer with unsupported characters which will be renamed to input_layer in the SavedModel.\n"
     ]
    },
    {
     "data": {
      "image/png": "[encoded data removed]",
      "text/plain": [
       "<Figure size 432x288 with 1 Axes>"
      ]
     },
     "metadata": {
      "needs_background": "light"
     },
     "output_type": "display_data"
    }
   ],
   "source": [
    "model2.train(train_features2,train_targets2)"
   ]
  },
  {
   "cell_type": "code",
   "execution_count": 14,
   "metadata": {},
   "outputs": [
    {
     "data": {
      "text/plain": [
       "0.925094477973941"
      ]
     },
     "execution_count": 14,
     "metadata": {},
     "output_type": "execute_result"
    }
   ],
   "source": [
    "predicted_labels2 = model2.predict(test_features2)\n",
    "calculate_accuracy(predictions=predicted_labels2, targets=test_targets2)"
   ]
  },
  {
   "cell_type": "code",
   "execution_count": 25,
   "metadata": {},
   "outputs": [],
   "source": [
    "data3 = pd.read_csv('phishing_dataset.csv')\n",
    "df3 = pd.DataFrame(data3)\n",
    "train_features3, train_targets3, test_features3, test_targets3 = train_val_test_split(df3,'ClassLabel')"
   ]
  },
  {
   "cell_type": "code",
   "execution_count": 26,
   "metadata": {},
   "outputs": [],
   "source": [
    "model3 = Phishing_Detection_Model(num_features=train_features3.shape[1])"
   ]
  },
  {
   "cell_type": "code",
   "execution_count": 27,
   "metadata": {},
   "outputs": [
    {
     "name": "stdout",
     "output_type": "stream",
     "text": [
      "Epoch 1/50\n",
      "188/188 [==============================] - 1s 2ms/step - loss: 9.2212 - accuracy: 0.8405 - val_loss: 2.0051 - val_accuracy: 0.8700\n",
      "Epoch 2/50\n",
      "188/188 [==============================] - 0s 2ms/step - loss: 2.8029 - accuracy: 0.8550 - val_loss: 4.1083 - val_accuracy: 0.8370\n",
      "Epoch 3/50\n",
      "188/188 [==============================] - 0s 2ms/step - loss: 0.8118 - accuracy: 0.8785 - val_loss: 0.5034 - val_accuracy: 0.8830\n",
      "Epoch 4/50\n",
      "188/188 [==============================] - 0s 2ms/step - loss: 0.4478 - accuracy: 0.8928 - val_loss: 0.8676 - val_accuracy: 0.8885\n",
      "Epoch 5/50\n",
      "188/188 [==============================] - 1s 3ms/step - loss: 0.3217 - accuracy: 0.8987 - val_loss: 0.4249 - val_accuracy: 0.8430\n",
      "Epoch 6/50\n",
      "188/188 [==============================] - 0s 2ms/step - loss: 0.4674 - accuracy: 0.9037 - val_loss: 0.2574 - val_accuracy: 0.9025\n",
      "Epoch 7/50\n",
      "188/188 [==============================] - 0s 1ms/step - loss: 0.3614 - accuracy: 0.9000 - val_loss: 0.3326 - val_accuracy: 0.8700\n",
      "Epoch 8/50\n",
      "188/188 [==============================] - 0s 1ms/step - loss: 0.2824 - accuracy: 0.9128 - val_loss: 0.5979 - val_accuracy: 0.8440\n",
      "Epoch 9/50\n",
      "188/188 [==============================] - 0s 1ms/step - loss: 0.3484 - accuracy: 0.9082 - val_loss: 0.2407 - val_accuracy: 0.9185\n",
      "Epoch 10/50\n",
      "188/188 [==============================] - 0s 2ms/step - loss: 0.2005 - accuracy: 0.9360 - val_loss: 0.1916 - val_accuracy: 0.9300\n",
      "Epoch 11/50\n",
      "188/188 [==============================] - 0s 2ms/step - loss: 0.3619 - accuracy: 0.8950 - val_loss: 0.1699 - val_accuracy: 0.9345\n",
      "Epoch 12/50\n",
      "188/188 [==============================] - 0s 1ms/step - loss: 0.2244 - accuracy: 0.9227 - val_loss: 0.1560 - val_accuracy: 0.9510\n",
      "Epoch 13/50\n",
      "188/188 [==============================] - 0s 1ms/step - loss: 0.1849 - accuracy: 0.9315 - val_loss: 0.1452 - val_accuracy: 0.9620\n",
      "Epoch 14/50\n",
      "188/188 [==============================] - 0s 1ms/step - loss: 0.1405 - accuracy: 0.9478 - val_loss: 0.1339 - val_accuracy: 0.9580\n",
      "Epoch 15/50\n",
      "188/188 [==============================] - 0s 1ms/step - loss: 0.1829 - accuracy: 0.9240 - val_loss: 0.2229 - val_accuracy: 0.9015\n",
      "Epoch 16/50\n",
      "188/188 [==============================] - 0s 1ms/step - loss: 0.1820 - accuracy: 0.9295 - val_loss: 0.1306 - val_accuracy: 0.9660\n",
      "Epoch 17/50\n",
      "188/188 [==============================] - 0s 1ms/step - loss: 0.1365 - accuracy: 0.9512 - val_loss: 0.1023 - val_accuracy: 0.9770\n",
      "Epoch 18/50\n",
      "188/188 [==============================] - 0s 1ms/step - loss: 0.2903 - accuracy: 0.9273 - val_loss: 0.2482 - val_accuracy: 0.9005\n",
      "Epoch 19/50\n",
      "188/188 [==============================] - 0s 1ms/step - loss: 0.2764 - accuracy: 0.9202 - val_loss: 0.1651 - val_accuracy: 0.9150\n",
      "Epoch 20/50\n",
      "188/188 [==============================] - 0s 1ms/step - loss: 0.6144 - accuracy: 0.8908 - val_loss: 0.1504 - val_accuracy: 0.9505\n",
      "Epoch 21/50\n",
      "188/188 [==============================] - 0s 1ms/step - loss: 0.1612 - accuracy: 0.9352 - val_loss: 0.1444 - val_accuracy: 0.9605\n",
      "Epoch 22/50\n",
      "188/188 [==============================] - 0s 1ms/step - loss: 0.1533 - accuracy: 0.9368 - val_loss: 0.1556 - val_accuracy: 0.9410\n",
      "Epoch 23/50\n",
      "188/188 [==============================] - 0s 1ms/step - loss: 0.1388 - accuracy: 0.9450 - val_loss: 0.1329 - val_accuracy: 0.9515\n",
      "Epoch 24/50\n",
      "188/188 [==============================] - 0s 1ms/step - loss: 0.1464 - accuracy: 0.9413 - val_loss: 0.1314 - val_accuracy: 0.9535\n",
      "Epoch 25/50\n",
      "188/188 [==============================] - 0s 1ms/step - loss: 0.1267 - accuracy: 0.9513 - val_loss: 0.1661 - val_accuracy: 0.9335\n",
      "Epoch 26/50\n",
      "188/188 [==============================] - 0s 1ms/step - loss: 0.1337 - accuracy: 0.9510 - val_loss: 0.2030 - val_accuracy: 0.9095\n",
      "Epoch 27/50\n",
      "188/188 [==============================] - 0s 1ms/step - loss: 0.1373 - accuracy: 0.9465 - val_loss: 0.1130 - val_accuracy: 0.9650\n",
      "Epoch 28/50\n",
      "188/188 [==============================] - 0s 1ms/step - loss: 0.1547 - accuracy: 0.9440 - val_loss: 0.1140 - val_accuracy: 0.9700\n",
      "Epoch 29/50\n",
      "188/188 [==============================] - 0s 1ms/step - loss: 0.1477 - accuracy: 0.9435 - val_loss: 0.1434 - val_accuracy: 0.9475\n",
      "Epoch 30/50\n",
      "188/188 [==============================] - 0s 1ms/step - loss: 0.1166 - accuracy: 0.9573 - val_loss: 0.1042 - val_accuracy: 0.9730\n",
      "Epoch 31/50\n",
      "188/188 [==============================] - 0s 1ms/step - loss: 0.1084 - accuracy: 0.9603 - val_loss: 0.0947 - val_accuracy: 0.9710\n",
      "Epoch 32/50\n",
      "188/188 [==============================] - 0s 1ms/step - loss: 0.1375 - accuracy: 0.9455 - val_loss: 0.1063 - val_accuracy: 0.9715\n",
      "Epoch 33/50\n",
      "188/188 [==============================] - 0s 1ms/step - loss: 0.1649 - accuracy: 0.9305 - val_loss: 0.1327 - val_accuracy: 0.9370\n",
      "Epoch 34/50\n",
      "188/188 [==============================] - 0s 1ms/step - loss: 0.1220 - accuracy: 0.9560 - val_loss: 0.1347 - val_accuracy: 0.9515\n",
      "Epoch 35/50\n",
      "188/188 [==============================] - 0s 1ms/step - loss: 0.1092 - accuracy: 0.9607 - val_loss: 0.1003 - val_accuracy: 0.9665\n",
      "Epoch 36/50\n",
      "188/188 [==============================] - 0s 1ms/step - loss: 0.1155 - accuracy: 0.9577 - val_loss: 0.1250 - val_accuracy: 0.9505\n",
      "Epoch 37/50\n",
      "188/188 [==============================] - 0s 1ms/step - loss: 0.1518 - accuracy: 0.9420 - val_loss: 0.1506 - val_accuracy: 0.9455\n",
      "Epoch 38/50\n",
      "188/188 [==============================] - 0s 1ms/step - loss: 0.1208 - accuracy: 0.9582 - val_loss: 0.1107 - val_accuracy: 0.9635\n",
      "Epoch 39/50\n",
      "188/188 [==============================] - 0s 1ms/step - loss: 0.1091 - accuracy: 0.9558 - val_loss: 0.0947 - val_accuracy: 0.9715\n",
      "Epoch 40/50\n",
      "188/188 [==============================] - 0s 1ms/step - loss: 0.1010 - accuracy: 0.9623 - val_loss: 0.1315 - val_accuracy: 0.9430\n",
      "Epoch 41/50\n",
      "188/188 [==============================] - 0s 1ms/step - loss: 0.1002 - accuracy: 0.9618 - val_loss: 0.0949 - val_accuracy: 0.9730\n",
      "Epoch 42/50\n",
      "188/188 [==============================] - 0s 1ms/step - loss: 0.1088 - accuracy: 0.9575 - val_loss: 0.1124 - val_accuracy: 0.9715\n",
      "Epoch 43/50\n",
      "188/188 [==============================] - 0s 1ms/step - loss: 0.0922 - accuracy: 0.9652 - val_loss: 0.0939 - val_accuracy: 0.9670\n",
      "Epoch 44/50\n",
      "188/188 [==============================] - 0s 1ms/step - loss: 0.0887 - accuracy: 0.9667 - val_loss: 0.0821 - val_accuracy: 0.9760\n",
      "Epoch 45/50\n",
      "188/188 [==============================] - 0s 1ms/step - loss: 0.0901 - accuracy: 0.9633 - val_loss: 0.1496 - val_accuracy: 0.9310\n",
      "Epoch 46/50\n",
      "188/188 [==============================] - 0s 1ms/step - loss: 0.1222 - accuracy: 0.9565 - val_loss: 0.1216 - val_accuracy: 0.9720\n",
      "Epoch 47/50\n",
      "188/188 [==============================] - 0s 1ms/step - loss: 0.1050 - accuracy: 0.9610 - val_loss: 0.1340 - val_accuracy: 0.9575\n",
      "Epoch 48/50\n",
      "188/188 [==============================] - 0s 1ms/step - loss: 0.1954 - accuracy: 0.9323 - val_loss: 0.1270 - val_accuracy: 0.9705\n",
      "Epoch 49/50\n",
      "188/188 [==============================] - 0s 1ms/step - loss: 0.1338 - accuracy: 0.9545 - val_loss: 0.1029 - val_accuracy: 0.9665\n",
      "Epoch 50/50\n",
      "188/188 [==============================] - 0s 1ms/step - loss: 0.1098 - accuracy: 0.9618 - val_loss: 0.0945 - val_accuracy: 0.9750\n"
     ]
    },
    {
     "name": "stderr",
     "output_type": "stream",
     "text": [
      "WARNING:absl:Function `_wrapped_model` contains input name(s) Input_Layer with unsupported characters which will be renamed to input_layer in the SavedModel.\n"
     ]
    },
    {
     "data": {
      "image/png": "[encoded data removed]",
      "text/plain": [
       "<Figure size 432x288 with 1 Axes>"
      ]
     },
     "metadata": {
      "needs_background": "light"
     },
     "output_type": "display_data"
    }
   ],
   "source": [
    "model3.train(train_features3,train_targets3)"
   ]
  },
  {
   "cell_type": "code",
   "execution_count": 28,
   "metadata": {},
   "outputs": [
    {
     "data": {
      "text/plain": [
       "0.9655"
      ]
     },
     "execution_count": 28,
     "metadata": {},
     "output_type": "execute_result"
    }
   ],
   "source": [
    "predicted_labels3 = model3.predict(test_features3)\n",
    "calculate_accuracy(predictions=predicted_labels3, targets=test_targets3)"
   ]
  },
  {
   "cell_type": "code",
   "execution_count": 29,
   "metadata": {},
   "outputs": [],
   "source": [
    "from LexicalUrlFeatures import LexicalURLFeatures\n",
    "from ContentFeatures import ContentFeatures\n",
    "from HostFeatures import HostFeatures"
   ]
  },
  {
   "cell_type": "code",
   "execution_count": 30,
   "metadata": {},
   "outputs": [],
   "source": [
    "def feat_extraction(url):\n",
    "    UrlFeats = LexicalURLFeatures(url)\n",
    "    ContFeats = ContentFeatures(url)\n",
    "    HostFeats = HostFeatures(url)\n",
    "\n",
    "    feats = []\n",
    "    ph_methods = ['url_length','url_path_length','url_host_length','url_host_is_ip','url_contains_port','num_of_digits',\n",
    "                'num_of_parameters','num_of_fragments','is_encoded','num_encoded_chars','num_of_subdirectories',\n",
    "                'num_of_periods','has_client_in_string','has_admin_in_string','has_server_in_string',\n",
    "                'has_login_in_string','has_at_sign','redirection','tiny_url','uses_https','dash_in_domain']\n",
    "    ph2_methods = ['number_of_html_tags','number_of_hidden_tags','number_of_script_tags','number_iframes',\n",
    "                'number_embeds','number_of_hyperlinks','number_of_eval_functions','forwarding']\n",
    "    ph3_methods = ['url_age','url_intended_life_span','url_life_remaining',\n",
    "                'average_update_frequency','number_of_updates','ttl_from_registration']\n",
    "    for method in ph_methods:\n",
    "        feats.append(getattr(UrlFeats, method)())  # call\n",
    "    for method in ph2_methods:\n",
    "        feats.append(getattr(ContFeats, method)())  # call\n",
    "    for method in ph3_methods:\n",
    "        feats.append(getattr(HostFeats, method)())  # call\n",
    "    return feats"
   ]
  },
  {
   "cell_type": "code",
   "execution_count": 48,
   "metadata": {},
   "outputs": [
    {
     "name": "stdout",
     "output_type": "stream",
     "text": [
      "[0.04074994]\n",
      "legitimate\n"
     ]
    }
   ],
   "source": [
    "feature = [feat_extraction(\"https://www.eventbrite.com/e/fridayz-afrobeats-amapiano-dancehall-soca-masada-tickets-478553154367?aff=ebdsoporgprofile\")]\n",
    "pred_label = model3.predict(feature)\n",
    "pred_label = pred_label.flatten()\n",
    "print(pred_label)\n",
    "if pred_label > 0.5:\n",
    "    print(\"phishing\")\n",
    "else:\n",
    "    print(\"legitimate\")"
   ]
  },
  {
   "cell_type": "code",
   "execution_count": 22,
   "metadata": {},
   "outputs": [],
   "source": [
    "from URLFeatureExtraction import featureExtraction"
   ]
  },
  {
   "cell_type": "code",
   "execution_count": 6,
   "metadata": {},
   "outputs": [],
   "source": [
    "data4 = pd.read_csv('phishing_data2.csv')\n",
    "df4 = pd.DataFrame(data4)\n",
    "train_features4, train_targets4, test_features4, test_targets4 = train_val_test_split(df4,'Label')"
   ]
  },
  {
   "cell_type": "code",
   "execution_count": 7,
   "metadata": {},
   "outputs": [
    {
     "name": "stderr",
     "output_type": "stream",
     "text": [
      "2023-02-26 20:17:35.882685: W tensorflow/core/platform/profile_utils/cpu_utils.cc:128] Failed to get CPU frequency: 0 Hz\n"
     ]
    },
    {
     "name": "stdout",
     "output_type": "stream",
     "text": [
      "Epoch 1/50\n",
      "188/188 [==============================] - 1s 2ms/step - loss: 0.2552 - accuracy: 0.9138 - val_loss: 0.2368 - val_accuracy: 0.9265\n",
      "Epoch 2/50\n",
      "188/188 [==============================] - 0s 1ms/step - loss: 0.1925 - accuracy: 0.9388 - val_loss: 0.2141 - val_accuracy: 0.9335\n",
      "Epoch 3/50\n",
      "188/188 [==============================] - 0s 1ms/step - loss: 0.1869 - accuracy: 0.9412 - val_loss: 0.2084 - val_accuracy: 0.9305\n",
      "Epoch 4/50\n",
      "188/188 [==============================] - 0s 1ms/step - loss: 0.1865 - accuracy: 0.9420 - val_loss: 0.1985 - val_accuracy: 0.9350\n",
      "Epoch 5/50\n",
      "188/188 [==============================] - 0s 1ms/step - loss: 0.1846 - accuracy: 0.9423 - val_loss: 0.2046 - val_accuracy: 0.9350\n",
      "Epoch 6/50\n",
      "188/188 [==============================] - 0s 1ms/step - loss: 0.1811 - accuracy: 0.9422 - val_loss: 0.1947 - val_accuracy: 0.9360\n",
      "Epoch 7/50\n",
      "188/188 [==============================] - 0s 1ms/step - loss: 0.1823 - accuracy: 0.9425 - val_loss: 0.2031 - val_accuracy: 0.9355\n",
      "Epoch 8/50\n",
      "188/188 [==============================] - 0s 1ms/step - loss: 0.1822 - accuracy: 0.9433 - val_loss: 0.1945 - val_accuracy: 0.9360\n",
      "Epoch 9/50\n",
      "188/188 [==============================] - 0s 1ms/step - loss: 0.1806 - accuracy: 0.9425 - val_loss: 0.2039 - val_accuracy: 0.9345\n",
      "Epoch 10/50\n",
      "188/188 [==============================] - 0s 1ms/step - loss: 0.1788 - accuracy: 0.9432 - val_loss: 0.1992 - val_accuracy: 0.9350\n",
      "Epoch 11/50\n",
      "188/188 [==============================] - 0s 1ms/step - loss: 0.1802 - accuracy: 0.9427 - val_loss: 0.1970 - val_accuracy: 0.9350\n",
      "Epoch 12/50\n",
      "188/188 [==============================] - 0s 1ms/step - loss: 0.1802 - accuracy: 0.9435 - val_loss: 0.1995 - val_accuracy: 0.9350\n",
      "Epoch 13/50\n",
      "188/188 [==============================] - 0s 1ms/step - loss: 0.1811 - accuracy: 0.9428 - val_loss: 0.1975 - val_accuracy: 0.9355\n",
      "Epoch 14/50\n",
      "188/188 [==============================] - 0s 1ms/step - loss: 0.1796 - accuracy: 0.9433 - val_loss: 0.1969 - val_accuracy: 0.9305\n",
      "Epoch 15/50\n",
      "188/188 [==============================] - 0s 1ms/step - loss: 0.1784 - accuracy: 0.9428 - val_loss: 0.1980 - val_accuracy: 0.9345\n",
      "Epoch 16/50\n",
      "188/188 [==============================] - 0s 1ms/step - loss: 0.1776 - accuracy: 0.9435 - val_loss: 0.1989 - val_accuracy: 0.9345\n",
      "Epoch 17/50\n",
      "188/188 [==============================] - 0s 1ms/step - loss: 0.1783 - accuracy: 0.9437 - val_loss: 0.1985 - val_accuracy: 0.9350\n",
      "Epoch 18/50\n",
      "188/188 [==============================] - 0s 1ms/step - loss: 0.1782 - accuracy: 0.9432 - val_loss: 0.1937 - val_accuracy: 0.9355\n",
      "Epoch 19/50\n",
      "188/188 [==============================] - 0s 2ms/step - loss: 0.1769 - accuracy: 0.9437 - val_loss: 0.1948 - val_accuracy: 0.9340\n",
      "Epoch 20/50\n",
      "188/188 [==============================] - 0s 1ms/step - loss: 0.1790 - accuracy: 0.9427 - val_loss: 0.1949 - val_accuracy: 0.9350\n",
      "Epoch 21/50\n",
      "188/188 [==============================] - 0s 1ms/step - loss: 0.1766 - accuracy: 0.9430 - val_loss: 0.1942 - val_accuracy: 0.9355\n",
      "Epoch 22/50\n",
      "188/188 [==============================] - 0s 1ms/step - loss: 0.1789 - accuracy: 0.9425 - val_loss: 0.1940 - val_accuracy: 0.9345\n",
      "Epoch 23/50\n",
      "188/188 [==============================] - 0s 1ms/step - loss: 0.1767 - accuracy: 0.9437 - val_loss: 0.1970 - val_accuracy: 0.9340\n",
      "Epoch 24/50\n",
      "188/188 [==============================] - 0s 1ms/step - loss: 0.1757 - accuracy: 0.9438 - val_loss: 0.1980 - val_accuracy: 0.9340\n",
      "Epoch 25/50\n",
      "188/188 [==============================] - 0s 1ms/step - loss: 0.1774 - accuracy: 0.9438 - val_loss: 0.2187 - val_accuracy: 0.9240\n",
      "Epoch 26/50\n",
      "188/188 [==============================] - 0s 1ms/step - loss: 0.1770 - accuracy: 0.9430 - val_loss: 0.2017 - val_accuracy: 0.9345\n",
      "Epoch 27/50\n",
      "188/188 [==============================] - 0s 1ms/step - loss: 0.1750 - accuracy: 0.9433 - val_loss: 0.1941 - val_accuracy: 0.9340\n",
      "Epoch 28/50\n",
      "188/188 [==============================] - 0s 1ms/step - loss: 0.1753 - accuracy: 0.9438 - val_loss: 0.1926 - val_accuracy: 0.9355\n",
      "Epoch 29/50\n",
      "188/188 [==============================] - 0s 1ms/step - loss: 0.1751 - accuracy: 0.9432 - val_loss: 0.1939 - val_accuracy: 0.9340\n",
      "Epoch 30/50\n",
      "188/188 [==============================] - 0s 1ms/step - loss: 0.1746 - accuracy: 0.9438 - val_loss: 0.2037 - val_accuracy: 0.9345\n",
      "Epoch 31/50\n",
      "188/188 [==============================] - 0s 1ms/step - loss: 0.1743 - accuracy: 0.9443 - val_loss: 0.1955 - val_accuracy: 0.9330\n",
      "Epoch 32/50\n",
      "188/188 [==============================] - 0s 1ms/step - loss: 0.1739 - accuracy: 0.9440 - val_loss: 0.1930 - val_accuracy: 0.9345\n",
      "Epoch 33/50\n",
      "188/188 [==============================] - 0s 1ms/step - loss: 0.1752 - accuracy: 0.9437 - val_loss: 0.1921 - val_accuracy: 0.9345\n",
      "Epoch 34/50\n",
      "188/188 [==============================] - 0s 1ms/step - loss: 0.1732 - accuracy: 0.9445 - val_loss: 0.1932 - val_accuracy: 0.9345\n",
      "Epoch 35/50\n",
      "188/188 [==============================] - 0s 1ms/step - loss: 0.1742 - accuracy: 0.9442 - val_loss: 0.1929 - val_accuracy: 0.9345\n",
      "Epoch 36/50\n",
      "188/188 [==============================] - 0s 1ms/step - loss: 0.1734 - accuracy: 0.9442 - val_loss: 0.1954 - val_accuracy: 0.9345\n",
      "Epoch 37/50\n",
      "188/188 [==============================] - 0s 1ms/step - loss: 0.1726 - accuracy: 0.9443 - val_loss: 0.2116 - val_accuracy: 0.9345\n",
      "Epoch 38/50\n",
      "188/188 [==============================] - 0s 1ms/step - loss: 0.1742 - accuracy: 0.9442 - val_loss: 0.2012 - val_accuracy: 0.9345\n",
      "Epoch 39/50\n",
      "188/188 [==============================] - 0s 1ms/step - loss: 0.1732 - accuracy: 0.9447 - val_loss: 0.1943 - val_accuracy: 0.9345\n",
      "Epoch 40/50\n",
      "188/188 [==============================] - 0s 1ms/step - loss: 0.1732 - accuracy: 0.9445 - val_loss: 0.1978 - val_accuracy: 0.9340\n",
      "Epoch 41/50\n",
      "188/188 [==============================] - 0s 1ms/step - loss: 0.1749 - accuracy: 0.9435 - val_loss: 0.1986 - val_accuracy: 0.9340\n",
      "Epoch 42/50\n",
      "188/188 [==============================] - 0s 1ms/step - loss: 0.1726 - accuracy: 0.9447 - val_loss: 0.1963 - val_accuracy: 0.9345\n",
      "Epoch 43/50\n",
      "188/188 [==============================] - 0s 1ms/step - loss: 0.1714 - accuracy: 0.9447 - val_loss: 0.1940 - val_accuracy: 0.9345\n",
      "Epoch 44/50\n",
      "188/188 [==============================] - 0s 1ms/step - loss: 0.1720 - accuracy: 0.9448 - val_loss: 0.2008 - val_accuracy: 0.9345\n",
      "Epoch 45/50\n",
      "188/188 [==============================] - 0s 1ms/step - loss: 0.1713 - accuracy: 0.9448 - val_loss: 0.1930 - val_accuracy: 0.9350\n",
      "Epoch 46/50\n",
      "188/188 [==============================] - 0s 1ms/step - loss: 0.1708 - accuracy: 0.9448 - val_loss: 0.1936 - val_accuracy: 0.9345\n",
      "Epoch 47/50\n",
      "188/188 [==============================] - 0s 1ms/step - loss: 0.1710 - accuracy: 0.9447 - val_loss: 0.2058 - val_accuracy: 0.9345\n",
      "Epoch 48/50\n",
      "188/188 [==============================] - 0s 1ms/step - loss: 0.1708 - accuracy: 0.9448 - val_loss: 0.1947 - val_accuracy: 0.9340\n",
      "Epoch 49/50\n",
      "188/188 [==============================] - 0s 1ms/step - loss: 0.1704 - accuracy: 0.9448 - val_loss: 0.1965 - val_accuracy: 0.9345\n",
      "Epoch 50/50\n",
      "188/188 [==============================] - 0s 1ms/step - loss: 0.1703 - accuracy: 0.9448 - val_loss: 0.2023 - val_accuracy: 0.9345\n"
     ]
    },
    {
     "name": "stderr",
     "output_type": "stream",
     "text": [
      "2023-02-26 20:17:48.353177: W tensorflow/python/util/util.cc:368] Sets are not currently considered sequences, but this may change in the future, so consider avoiding using them.\n",
      "WARNING:absl:Function `_wrapped_model` contains input name(s) Input_Layer with unsupported characters which will be renamed to input_layer in the SavedModel.\n"
     ]
    },
    {
     "data": {
      "image/png": "[encoded data removed]",
      "text/plain": [
       "<Figure size 432x288 with 1 Axes>"
      ]
     },
     "metadata": {
      "needs_background": "light"
     },
     "output_type": "display_data"
    }
   ],
   "source": [
    "model4 = Phishing_Detection_Model(num_features=train_features4.shape[1])\n",
    "model4.train(train_features4,train_targets4)"
   ]
  },
  {
   "cell_type": "code",
   "execution_count": 8,
   "metadata": {},
   "outputs": [
    {
     "data": {
      "text/plain": [
       "0.936"
      ]
     },
     "execution_count": 8,
     "metadata": {},
     "output_type": "execute_result"
    }
   ],
   "source": [
    "predicted_labels4 = model4.predict(test_features4)\n",
    "calculate_accuracy(predictions=predicted_labels4, targets=test_targets4)"
   ]
  },
  {
   "cell_type": "code",
   "execution_count": 41,
   "metadata": {},
   "outputs": [
    {
     "name": "stdout",
     "output_type": "stream",
     "text": [
      "hi1\n",
      "hi1\n",
      "hi2\n",
      "hi\n",
      "[[0, 0, 0, 1, 0, 0, 0, 0, 1, 1, 1]]\n"
     ]
    },
    {
     "data": {
      "text/plain": [
       "array([1.], dtype=float32)"
      ]
     },
     "execution_count": 41,
     "metadata": {},
     "output_type": "execute_result"
    }
   ],
   "source": [
    "from URLFeatureExtraction import featureExtraction\n",
    "feature = [featureExtraction(\"https://www.youtube.com/watch?v=pjewBSmWTlU\")]\n",
    "print(feature)\n",
    "pred_label = model4.predict(feature)\n",
    "pred_label = pred_label.flatten()\n",
    "pred_label\n"
   ]
  },
  {
   "cell_type": "code",
   "execution_count": 2,
   "metadata": {},
   "outputs": [],
   "source": [
    "from tensorflow.python import keras\n",
    "def load_phishing_detection_model():\n",
    "    \"\"\"\n",
    "    load pretrained phishing detection model from disk\n",
    "    \"\"\"\n",
    "    model = keras.models.load_model(\"phishing-detection-model2\")\n",
    "    model_inference = model.signatures[\"serving_default\"]\n",
    "    return model_inference\n",
    "\n",
    "PhishingDetectionModel = load_phishing_detection_model()"
   ]
  },
  {
   "cell_type": "code",
   "execution_count": 28,
   "metadata": {},
   "outputs": [
    {
     "name": "stdout",
     "output_type": "stream",
     "text": [
      "https://www.hulu.com/watch/738f5e5f-fad3-402d-aa1f-2f72c44d8d01\n"
     ]
    }
   ],
   "source": [
    "from feature_extraction import feature_extraction\n",
    "feature = [feature_extraction(\"https://www.hulu.com/watch/738f5e5f-fad3-402d-aa1f-2f72c44d8d01\")]"
   ]
  },
  {
   "cell_type": "code",
   "execution_count": 29,
   "metadata": {},
   "outputs": [
    {
     "name": "stdout",
     "output_type": "stream",
     "text": [
      "[0.]\n",
      "legitimate\n"
     ]
    }
   ],
   "source": [
    "import tensorflow as tf\n",
    "import numpy as np\n",
    "pred = PhishingDetectionModel(Input_Layer=tf.cast(tf.convert_to_tensor(feature), dtype=\"float\"))\n",
    "pred = np.array(pred[\"Output_Layer\"]).flatten()\n",
    "print(pred)\n",
    "if pred > 0.5:\n",
    "    print(\"phishing\")\n",
    "else:\n",
    "    print(\"legitimate\")\n"
   ]
  }
 ],
 "metadata": {
  "kernelspec": {
   "display_name": "tf_m1",
   "language": "python",
   "name": "python3"
  },
  "language_info": {
   "codemirror_mode": {
    "name": "ipython",
    "version": 3
   },
   "file_extension": ".py",
   "mimetype": "text/x-python",
   "name": "python",
   "nbconvert_exporter": "python",
   "pygments_lexer": "ipython3",
   "version": "3.8.10"
  },
  "orig_nbformat": 4,
  "vscode": {
   "interpreter": {
    "hash": "1c113ca73dcb788d262ff5c14dccc6d994c5d16184791d4e782c53cfe6cb089e"
   }
  }
 },
 "nbformat": 4,
 "nbformat_minor": 2
}
